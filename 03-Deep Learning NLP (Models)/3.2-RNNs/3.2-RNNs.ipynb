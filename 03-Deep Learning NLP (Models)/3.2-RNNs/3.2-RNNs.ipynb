{
 "cells": [
  {
   "cell_type": "code",
   "execution_count": 2,
   "id": "4834e2df",
   "metadata": {},
   "outputs": [],
   "source": [
    "import torch\n",
    "import torch.nn as nn\n",
    "import torch.nn.functional as F"
   ]
  },
  {
   "cell_type": "code",
   "execution_count": 3,
   "id": "3d439041",
   "metadata": {},
   "outputs": [],
   "source": [
    "class SimpleRNN(nn.Module):\n",
    "    def __init__(self, input_size=9, hidden_size=4, output_size=3):\n",
    "        super(SimpleRNN, self).__init__()\n",
    "\n",
    "        self.hidden_size = hidden_size\n",
    "\n",
    "        self.input_to_hidden = nn.Linear(input_size, hidden_size)    # 9x4\n",
    "        self.hidden_to_hidden = nn.Linear(hidden_size, hidden_size)  # 4x4\n",
    "        self.hidden_to_output = nn.Linear(hidden_size, output_size)  # 4x3\n",
    "\n",
    "\n",
    "    def forward(self, inputs):\n",
    "        steps_output, hidden_states = {}, {}\n",
    "        h_prev = torch.zeros((1,self.hidden_size)) # (1,4)\n",
    "\n",
    "        # print(\"inputs shape:\", torch.stack(inputs).shape)  # (10, 9)\n",
    "        # print(h_prev.shape)  # (1,4)\n",
    "\n",
    "        hidden_states[-1] = h_prev\n",
    "\n",
    "        for t in range(len(inputs)):\n",
    "            x = inputs[t].reshape(1,9)    # (1,9)\n",
    "\n",
    "            hidden_cur = self.input_to_hidden(x)  # (1,9) * (9,4) = (1,4)\n",
    "\n",
    "            h_prev = self.hidden_to_hidden(h_prev)  # (1,4) * (4,4) = (1,4)\n",
    "            h_prev = torch.tanh(hidden_cur + h_prev)  # (1,4) + (1,4) = (1,4)\n",
    "\n",
    "            y_t = self.hidden_to_output(h_prev)  # (1,4) * (4,3) = (1,3)\n",
    "\n",
    "            hidden_states[t] = h_prev\n",
    "            steps_output[t] = y_t\n",
    "\n",
    "            if t < 2:\n",
    "                print(f\"\\nt = {t}\")\n",
    "                print(\"x shape:\", x.shape)\n",
    "                print(\"hidden_cur shape:\", hidden_cur.shape)\n",
    "                print(\"h_prev shape:\", h_prev.shape)\n",
    "                print(\"y_t shape:\", y_t.shape)\n",
    "                print(\"----------------------------\")\n",
    "\n",
    "        return steps_output, hidden_states"
   ]
  },
  {
   "cell_type": "code",
   "execution_count": 4,
   "id": "de18d764",
   "metadata": {},
   "outputs": [
    {
     "name": "stdout",
     "output_type": "stream",
     "text": [
      "\n",
      "t = 0\n",
      "x shape: torch.Size([1, 9])\n",
      "hidden_cur shape: torch.Size([1, 4])\n",
      "h_prev shape: torch.Size([1, 4])\n",
      "y_t shape: torch.Size([1, 3])\n",
      "----------------------------\n",
      "\n",
      "t = 1\n",
      "x shape: torch.Size([1, 9])\n",
      "hidden_cur shape: torch.Size([1, 4])\n",
      "h_prev shape: torch.Size([1, 4])\n",
      "y_t shape: torch.Size([1, 3])\n",
      "----------------------------\n",
      "\n",
      "Final output keys: dict_keys([0, 1, 2, 3, 4, 5, 6, 7, 8, 9])\n"
     ]
    }
   ],
   "source": [
    "sequence_length = 10\n",
    "input_size = 9\n",
    "hidden_size = 4\n",
    "output_size = 3\n",
    "\n",
    "model = SimpleRNN(input_size, hidden_size, output_size)\n",
    "\n",
    "inputs = [torch.randn(input_size) for _ in range(sequence_length)]\n",
    "\n",
    "output, hidden_states = model(inputs)\n",
    "print(\"\\nFinal output keys:\", output.keys())"
   ]
  },
  {
   "cell_type": "code",
   "execution_count": null,
   "id": "46534bb0",
   "metadata": {},
   "outputs": [],
   "source": []
  }
 ],
 "metadata": {
  "kernelspec": {
   "display_name": "myenv",
   "language": "python",
   "name": "python3"
  },
  "language_info": {
   "codemirror_mode": {
    "name": "ipython",
    "version": 3
   },
   "file_extension": ".py",
   "mimetype": "text/x-python",
   "name": "python",
   "nbconvert_exporter": "python",
   "pygments_lexer": "ipython3",
   "version": "3.12.6"
  }
 },
 "nbformat": 4,
 "nbformat_minor": 5
}
